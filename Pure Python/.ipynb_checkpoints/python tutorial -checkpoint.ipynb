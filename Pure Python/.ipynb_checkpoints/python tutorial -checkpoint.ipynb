{
 "cells": [
  {
   "cell_type": "code",
   "execution_count": 1,
   "metadata": {
    "scrolled": false
   },
   "outputs": [
    {
     "name": "stdout",
     "output_type": "stream",
     "text": [
      "Hello World!\n"
     ]
    }
   ],
   "source": [
    "print(\"Hello World!\")"
   ]
  },
  {
   "cell_type": "markdown",
   "metadata": {},
   "source": [
    "### Python Data types:\n",
    "Everything is an object in python, each object has a specific type that allows different operations.\n",
    "- int: 34, 2, 0, -12, -65\n",
    "- float: 3.14, 0.0, -3.14\n",
    "- str: 'Hello', \"hello\", '34', \"25\", \"3.14\"\n",
    "- bool: True, False"
   ]
  },
  {
   "cell_type": "code",
   "execution_count": 2,
   "metadata": {
    "scrolled": false
   },
   "outputs": [
    {
     "name": "stdout",
     "output_type": "stream",
     "text": [
      "<class 'int'>\n",
      "<class 'float'>\n",
      "<class 'str'>\n"
     ]
    }
   ],
   "source": [
    "print(type(0))\n",
    "print(type(0.0))\n",
    "print(type(\"hello\"))"
   ]
  },
  {
   "cell_type": "code",
   "execution_count": 3,
   "metadata": {},
   "outputs": [
    {
     "name": "stdout",
     "output_type": "stream",
     "text": [
      "<class 'int'>\n",
      "<class 'str'>\n"
     ]
    }
   ],
   "source": [
    "### you can convert different data types:\n",
    "float(0)\n",
    "print(type(int('78')))\n",
    "print(type('78'))"
   ]
  },
  {
   "cell_type": "code",
   "execution_count": 4,
   "metadata": {},
   "outputs": [
    {
     "data": {
      "text/plain": [
       "3"
      ]
     },
     "execution_count": 4,
     "metadata": {},
     "output_type": "execute_result"
    }
   ],
   "source": [
    "int(3.8) # does not round!\n",
    "# print(round(3.8))"
   ]
  },
  {
   "cell_type": "markdown",
   "metadata": {},
   "source": [
    "### Python Variables:\n",
    "Variables are containers for storing data values. <br>\n",
    "Variable can have a short name: x, y, a, b, or a descriptive name: age, mean, median \n",
    "\n",
    "#### Variable name rules:\n",
    "- must start with a letter or underscore ( _ )\n",
    "- cannot start with a number \n",
    "- must only contain alpha-numeric characters and underscore (A-Z, 0-9, and _ )\n",
    "- Case-sensitive \n",
    "- Cannot use default keywords in python: class, list, dict,..."
   ]
  },
  {
   "cell_type": "code",
   "execution_count": 5,
   "metadata": {},
   "outputs": [
    {
     "name": "stdout",
     "output_type": "stream",
     "text": [
      "10\n",
      "Data Science\n"
     ]
    }
   ],
   "source": [
    "x = 10\n",
    "y = 'Data Science'\n",
    "print(x)\n",
    "print(y)"
   ]
  },
  {
   "cell_type": "code",
   "execution_count": 6,
   "metadata": {},
   "outputs": [],
   "source": [
    "_age = 20\n",
    "age_ = 21\n",
    "age = 22\n",
    "Age = 23\n",
    "AGE = 24\n",
    "Age2 = 25\n",
    "age2 = 26\n",
    "\n",
    "#Illegal variable names:\n",
    "# 2age = 20\n",
    "# age-2 = 21\n",
    "# my age = 22"
   ]
  },
  {
   "cell_type": "code",
   "execution_count": 7,
   "metadata": {},
   "outputs": [
    {
     "name": "stdout",
     "output_type": "stream",
     "text": [
      "alpha\n",
      "beta\n",
      "gamma\n"
     ]
    }
   ],
   "source": [
    "x, y, z = 'alpha', 'beta', 'gamma'\n",
    "print(x)\n",
    "print(y)\n",
    "print(z)"
   ]
  },
  {
   "cell_type": "markdown",
   "metadata": {},
   "source": [
    "### Strings\n",
    "String variables are introduced either by using single or double quotes. Python treats single quotes the same as double quote.<br>\n",
    "If there is a double quote in your string, use a single quote to declare the string, and vice versa."
   ]
  },
  {
   "cell_type": "code",
   "execution_count": 8,
   "metadata": {},
   "outputs": [
    {
     "name": "stdout",
     "output_type": "stream",
     "text": [
      "python tutorial for data mining\n",
      "python's tutorial for data mining\n",
      "python tutorial for \"data mining\"\n"
     ]
    }
   ],
   "source": [
    "# single and double quotes\n",
    "example1 = 'python tutorial for data mining'\n",
    "example2 = \"python's tutorial for data mining\"\n",
    "example3 = 'python tutorial for \"data mining\"'\n",
    "print(example1)\n",
    "print(example2)\n",
    "print(example3)"
   ]
  },
  {
   "cell_type": "markdown",
   "metadata": {},
   "source": [
    "#### multiline string"
   ]
  },
  {
   "cell_type": "code",
   "execution_count": 9,
   "metadata": {},
   "outputs": [
    {
     "name": "stdout",
     "output_type": "stream",
     "text": [
      "\n",
      "Hello, \n",
      "\n",
      "This is a multi-line string\n",
      "\n",
      "Thank you, \n",
      "\n",
      "\n"
     ]
    }
   ],
   "source": [
    "example4 = \"\"\"\n",
    "Hello, \n",
    "\n",
    "This is a multi-line string\n",
    "\n",
    "Thank you, \n",
    "\n",
    "\"\"\"\n",
    "\n",
    "print(example4)"
   ]
  },
  {
   "cell_type": "markdown",
   "metadata": {},
   "source": [
    "#### indexing strings\n",
    "To access substrings, use the square brackets for slicing along with the index or indices to obtain your substring."
   ]
  },
  {
   "cell_type": "code",
   "execution_count": 10,
   "metadata": {},
   "outputs": [
    {
     "name": "stdout",
     "output_type": "stream",
     "text": [
      "11\n",
      "d\n",
      "a\n",
      "g\n",
      "i\n",
      "dat\n",
      "ta mining\n",
      "dt ii\n"
     ]
    }
   ],
   "source": [
    "\n",
    "course = 'data mining'\n",
    "print(len(course))\n",
    "print(course[0])\n",
    "print(course[1])\n",
    "print(course[-1])\n",
    "print(course[-3])\n",
    "print(course[0:3])\n",
    "print(course[2:])\n",
    "print(course[0:10:2])"
   ]
  },
  {
   "cell_type": "markdown",
   "metadata": {},
   "source": [
    "#### concatenate strings\n",
    "String concatenation means adding strings together. <br>\n",
    "By using the + character a string variable is added to another string variable."
   ]
  },
  {
   "cell_type": "code",
   "execution_count": 11,
   "metadata": {},
   "outputs": [
    {
     "name": "stdout",
     "output_type": "stream",
     "text": [
      "HelloHow are you?\n",
      "Hello How are you?\n",
      "Hello How are you?\n"
     ]
    }
   ],
   "source": [
    "hi = 'Hello'\n",
    "greet = 'How are you?'\n",
    "sentence = hi + greet\n",
    "print(sentence)\n",
    "sentence = hi + ' ' + greet\n",
    "print(sentence)\n",
    "print(hi, greet)"
   ]
  },
  {
   "cell_type": "code",
   "execution_count": 12,
   "metadata": {},
   "outputs": [
    {
     "name": "stdout",
     "output_type": "stream",
     "text": [
      "hello\n"
     ]
    }
   ],
   "source": [
    "# strings are immutable\n",
    "s = 'hello'\n",
    "# s[0] = 'y'\n",
    "# s = 'y' + s[1:]\n",
    "print(s)"
   ]
  },
  {
   "cell_type": "markdown",
   "metadata": {},
   "source": [
    "#### formatted strings\n",
    "Lets us concatenate elements within a string through positional formatting."
   ]
  },
  {
   "cell_type": "code",
   "execution_count": 13,
   "metadata": {
    "scrolled": true
   },
   "outputs": [
    {
     "name": "stdout",
     "output_type": "stream",
     "text": [
      "This is a data mining course at AUT.\n",
      "This is a data mining course at AUT.\n",
      "This is a data mining course at AUT.\n",
      "This is a data mining course at AUT.\n",
      "This is a data mining course at AUT\n"
     ]
    }
   ],
   "source": [
    "course = 'data mining'\n",
    "uni = 'AUT'\n",
    "print('This is a', course, 'course at', uni + '.')\n",
    "print('This is a {} course at {}.'.format(course, uni))\n",
    "print('This is a {first} course at {second}.'.format(second=uni, first=course))\n",
    "print(f'This is a {course} course at {uni}.')\n",
    "print('This is a %s course at %s' %(course, uni))"
   ]
  },
  {
   "cell_type": "markdown",
   "metadata": {},
   "source": [
    "#### string methods\n",
    "built-in methods on strings."
   ]
  },
  {
   "cell_type": "code",
   "execution_count": 14,
   "metadata": {},
   "outputs": [
    {
     "name": "stdout",
     "output_type": "stream",
     "text": [
      "DATA MINING\n",
      "data mining\n",
      "Data Mining\n",
      "data mining\n",
      "----------------------\n",
      "1\n",
      "-1\n",
      "5\n",
      "data mining\n",
      "----------------------\n",
      "data Mining\n",
      "data mining\n"
     ]
    }
   ],
   "source": [
    "print(course.upper()) #Converts a string into upper case\n",
    "print(course.lower()) #Converts a string into lower case\n",
    "print(course.title()) #Converts the first character of each word to upper case\n",
    "print(course)\n",
    "\n",
    "print('----------------------')\n",
    "\n",
    "print(course.find('a')) #Searches the string for a specified value and returns the position of where it was found\n",
    "print(course.find('A'))\n",
    "print(course.find('mining'))\n",
    "print(course)\n",
    "\n",
    "print('----------------------')\n",
    " \n",
    "print(course.replace('mining', 'Mining')) #Returns a string where a specified value is replaced with a specified value\n",
    "print(course)"
   ]
  },
  {
   "cell_type": "markdown",
   "metadata": {},
   "source": [
    "#### boolean expression"
   ]
  },
  {
   "cell_type": "code",
   "execution_count": 108,
   "metadata": {},
   "outputs": [
    {
     "name": "stdout",
     "output_type": "stream",
     "text": [
      "data mining\n",
      "True\n",
      "False\n"
     ]
    }
   ],
   "source": [
    "print(course)\n",
    "print('data' in course)\n",
    "print('Data' in course)"
   ]
  },
  {
   "cell_type": "markdown",
   "metadata": {},
   "source": [
    "### Inputs\n",
    "The input() function allows user input. (Returns string objects)<br>\n",
    "Be careful to convert the input, if you have to use it in numerical operations!"
   ]
  },
  {
   "cell_type": "code",
   "execution_count": 109,
   "metadata": {
    "scrolled": true
   },
   "outputs": [
    {
     "name": "stdout",
     "output_type": "stream",
     "text": [
      "Hello, What is your name?\n",
      "My name is: Mahsan\n",
      "How old are you?\n",
      "I am 24\n"
     ]
    }
   ],
   "source": [
    "print('Hello, What is your name?')\n",
    "name = input('My name is: ')\n",
    "print('How old are you?')\n",
    "age = input('I am ')"
   ]
  },
  {
   "cell_type": "code",
   "execution_count": 17,
   "metadata": {
    "scrolled": true
   },
   "outputs": [
    {
     "name": "stdout",
     "output_type": "stream",
     "text": [
      "Hello, Mahsan you are 24 years old.\n",
      "Hello, Mahsan, you are 24 years old.\n"
     ]
    }
   ],
   "source": [
    "print('Hello,', name, 'you are', age, 'years old.')\n",
    "print(\"Hello, {one}, you are {two} years old.\".format(one = name, two = age))"
   ]
  },
  {
   "cell_type": "code",
   "execution_count": 18,
   "metadata": {
    "scrolled": true
   },
   "outputs": [
    {
     "name": "stdout",
     "output_type": "stream",
     "text": [
      "you will be 26 years old two years later.\n"
     ]
    }
   ],
   "source": [
    "#the input gives you str\n",
    "# print('you will be', age+2, 'years old two years later.')\n",
    "type(age)\n",
    "print('you will be', int(age)+2, 'years old two years later.')"
   ]
  },
  {
   "cell_type": "markdown",
   "metadata": {},
   "source": [
    "### Basic Operators\n",
    "operators are used to perform mathematical operations like addition, subtraction, multiplication and division.\n",
    "- +\n",
    "- -\n",
    "- *\n",
    "- /\n",
    "- ** (Exponentiation)\n",
    "- // (int division)\n",
    "- % (Remainder) <br><br>\n",
    "NOTE: Python operations are done under the Operator precedence PEMDAS:\n",
    "    1. P: Parentheses\n",
    "    2. E: Exponents\n",
    "    3. M, D: Multiplication/Division\n",
    "    4. A, S: Addition/Subtraction"
   ]
  },
  {
   "cell_type": "code",
   "execution_count": 19,
   "metadata": {
    "scrolled": true
   },
   "outputs": [
    {
     "name": "stdout",
     "output_type": "stream",
     "text": [
      "43\n",
      "37\n",
      "120\n",
      "13.333333333333334\n",
      "64000\n",
      "13\n",
      "1\n"
     ]
    }
   ],
   "source": [
    "num1 = 40\n",
    "num2 = 3\n",
    "print(num1 + num2)\n",
    "print(num1 - num2)\n",
    "print(num1 * num2)\n",
    "print(num1 / num2)\n",
    "print(num1 ** num2)\n",
    "print(num1 // num2)\n",
    "print(num1 % num2)"
   ]
  },
  {
   "cell_type": "code",
   "execution_count": 20,
   "metadata": {},
   "outputs": [
    {
     "name": "stdout",
     "output_type": "stream",
     "text": [
      "13.25\n",
      "18.25\n"
     ]
    }
   ],
   "source": [
    "x = 12 + 5 / 2 ** 2\n",
    "print(x)\n",
    "y = 12 + (5 / 2) ** 2\n",
    "print(y)"
   ]
  },
  {
   "cell_type": "code",
   "execution_count": 21,
   "metadata": {},
   "outputs": [
    {
     "name": "stdout",
     "output_type": "stream",
     "text": [
      "3\n",
      "2.9\n"
     ]
    }
   ],
   "source": [
    "x = 2.9\n",
    "print(round(x))\n",
    "print(abs(x))"
   ]
  },
  {
   "cell_type": "markdown",
   "metadata": {},
   "source": [
    "### Comparison Operators \n",
    "The following operations reutrn Booleans. <br>\n",
    "You can compare objects with same data types with themselves, type int objects with type float objects. <br>\n",
    "You can't compare str with float or int.\n",
    "- i > j \n",
    "- i>= j\n",
    "- i < j\n",
    "- i<= j\n",
    "- i <font color='red'>==</font> j  &emsp;&emsp;==> equality test, returns True if i is the same as j\n",
    "- i != j  &emsp;&emsp;==> inequality test, retruns True if i is not the same as j"
   ]
  },
  {
   "cell_type": "code",
   "execution_count": 22,
   "metadata": {
    "scrolled": true
   },
   "outputs": [
    {
     "name": "stdout",
     "output_type": "stream",
     "text": [
      "True\n",
      "False\n",
      "False\n"
     ]
    }
   ],
   "source": [
    "print(2<3)\n",
    "print(47>100)\n",
    "print('hello'=='Hello')"
   ]
  },
  {
   "cell_type": "markdown",
   "metadata": {},
   "source": [
    "### logical operators on Booleans\n",
    "<table><thead><tr><th>A</th><th>B</th><th>A and B</th><th>A or B</th></tr></thead><tbody><tr><td>True</td><td>True</td><td>True</td><td>True</td></tr><tr><td>True</td><td>False</td><td>False </td><td>True</td></tr><tr><td>False </td><td>True</td><td>False</td><td>True</td></tr><tr><td>Fasle</td><td>False</td><td>False</td><td>False</td></tr></tbody></table>"
   ]
  },
  {
   "cell_type": "code",
   "execution_count": 23,
   "metadata": {
    "scrolled": true
   },
   "outputs": [
    {
     "name": "stdout",
     "output_type": "stream",
     "text": [
      "False\n",
      "True\n",
      "False\n",
      "True\n"
     ]
    }
   ],
   "source": [
    "a = True\n",
    "b = False\n",
    "print(not a)\n",
    "print(not b)\n",
    "print(a and b)\n",
    "print(a or b)"
   ]
  },
  {
   "cell_type": "markdown",
   "metadata": {},
   "source": [
    "### Conditionals\n",
    "Conditional Statement in Python perform different computations or actions depending on whether a specific Boolean constraint evaluates to true or false. Conditional statements are handled by IF statements in Python.<br>\n",
    "indentations in python are important. Our program's flow is determined by the code blocks represented with the indentations. \n"
   ]
  },
  {
   "cell_type": "code",
   "execution_count": 24,
   "metadata": {
    "scrolled": true
   },
   "outputs": [
    {
     "name": "stdout",
     "output_type": "stream",
     "text": [
      "Enter a number: x= 15\n",
      "Enter another number: y= 15\n",
      "x and y are equal.\n",
      "therfore, x/y is 1.0\n"
     ]
    }
   ],
   "source": [
    "x = float(input('Enter a number: x= '))\n",
    "y = float(input('Enter another number: y= '))\n",
    "\n",
    "if x == y:\n",
    "    print('x and y are equal.')\n",
    "    if y != 0:\n",
    "        print('therfore, x/y is', x/y)\n",
    "elif x < y:\n",
    "    print('x is smaller than y.')\n",
    "else:\n",
    "    print('y is smaller.')"
   ]
  },
  {
   "cell_type": "code",
   "execution_count": 25,
   "metadata": {},
   "outputs": [
    {
     "name": "stdout",
     "output_type": "stream",
     "text": [
      "Wear jacket, scarf and gloves!!\n"
     ]
    }
   ],
   "source": [
    "is_raining = False \n",
    "is_snowing = True\n",
    "temp = -10\n",
    "\n",
    "if is_raining and is_snowing:\n",
    "    print('Check the weather again! :/')\n",
    "elif is_raining and not is_snowing:\n",
    "    if temp > 8:\n",
    "        print('Wear a light rain_coat :)')\n",
    "    else:\n",
    "        print('Wear rain coat and boots :)')\n",
    "elif is_snowing and not is_raining:\n",
    "    if temp > -6:\n",
    "        print('Wear a jacket.')\n",
    "    elif temp > -10:\n",
    "        print('Wear jacket and scarf!')\n",
    "    else:\n",
    "        print('Wear jacket, scarf and gloves!!')\n",
    "elif not is_raining and not is_snowing:\n",
    "    print('The weather is nice!')\n"
   ]
  },
  {
   "cell_type": "markdown",
   "metadata": {},
   "source": [
    "### while and for loops\n",
    "Python has two primitive loop commands:\n",
    "- while loops\n",
    "- for loops\n",
    "\n",
    "With the while loop we can execute a set of statements as long as a condition is true. <br>\n",
    "With the break statement we can stop the loop even if the while condition is true."
   ]
  },
  {
   "cell_type": "code",
   "execution_count": 26,
   "metadata": {
    "scrolled": true
   },
   "outputs": [
    {
     "name": "stdout",
     "output_type": "stream",
     "text": [
      "0\n",
      "1\n",
      "2\n",
      "3\n",
      "4\n",
      "5\n"
     ]
    }
   ],
   "source": [
    "i = 0\n",
    "while i<=5:\n",
    "    print(i)\n",
    "    i += 1 "
   ]
  },
  {
   "cell_type": "markdown",
   "metadata": {},
   "source": [
    "#### A guessing game:\n",
    "Code to guess the right number between an upper bound and a lower bound using while loops."
   ]
  },
  {
   "cell_type": "code",
   "execution_count": 3,
   "metadata": {
    "scrolled": false
   },
   "outputs": [
    {
     "name": "stdout",
     "output_type": "stream",
     "text": [
      "New number: 1\n",
      "Number too small\n",
      "lower boundary is 2, upper boundary is 20.\n",
      "New number: 5\n",
      "Number too small\n",
      "lower boundary is 6, upper boundary is 20.\n",
      "New number: 18\n",
      "Number too large\n",
      "lower boundary is 6, upper boundary is 17.\n",
      "New number: 8\n",
      "Number too small\n",
      "lower boundary is 9, upper boundary is 17.\n",
      "New number: 15\n",
      "Congrats!!!\n"
     ]
    }
   ],
   "source": [
    "upper_bound = 20\n",
    "lower_bound = 1\n",
    "adaptive_upper_bound = upper_bound\n",
    "adaptive_lower_bound = lower_bound\n",
    "to_be_guessed = 15\n",
    "guess = 1\n",
    "while guess != to_be_guessed:\n",
    "    guess = int(input(\"New number: \"))\n",
    "    if guess == 0:   # giving up\n",
    "        print(\"Game Over!\")\n",
    "        break   # break out of a loop, don't execute \"else\"\n",
    "    if guess < lower_bound or guess > upper_bound:\n",
    "        print(\"guess not within boundaries!\")\n",
    "        print(f\"choose between {adaptive_lower_bound} and {adaptive_upper_bound}.\")\n",
    "    elif guess < adaptive_lower_bound or guess > adaptive_upper_bound:\n",
    "        print(\"Your guess is contradictory to your previous guesses!\")\n",
    "        print(f\"choose between {adaptive_lower_bound} and {adaptive_upper_bound}.\")\n",
    "    elif guess > to_be_guessed:\n",
    "        adaptive_upper_bound = guess - 1\n",
    "        print(\"Number too large\")\n",
    "        print(f\"lower boundary is {adaptive_lower_bound}, upper boundary is {adaptive_upper_bound}.\")\n",
    "    elif guess < to_be_guessed:\n",
    "        adaptive_lower_bound = guess + 1\n",
    "        print(\"Number too small\")\n",
    "        print(f\"lower boundary is {adaptive_lower_bound}, upper boundary is {adaptive_upper_bound}.\")\n",
    "    elif guess == to_be_guessed:\n",
    "        print('Congrats!!!')"
   ]
  },
  {
   "cell_type": "markdown",
   "metadata": {},
   "source": [
    "### for loops\n",
    "A for loop is used for iterating over a sequence (that is either a list, a tuple, a dictionary, or a string).<br>\n",
    "we can execute a set of statements, once for each item in a list, tuple, set etc."
   ]
  },
  {
   "cell_type": "markdown",
   "metadata": {},
   "source": [
    "#### range function\n",
    "Creates a sequence of numbers from 0 to n, and print each item in the sequence:"
   ]
  },
  {
   "cell_type": "code",
   "execution_count": 28,
   "metadata": {},
   "outputs": [
    {
     "name": "stdout",
     "output_type": "stream",
     "text": [
      "5\n",
      "7\n",
      "9\n"
     ]
    }
   ],
   "source": [
    "for i in range(5,10,2):\n",
    "    print(i)"
   ]
  },
  {
   "cell_type": "code",
   "execution_count": 29,
   "metadata": {},
   "outputs": [
    {
     "name": "stdout",
     "output_type": "stream",
     "text": [
      "there is an i or o\n"
     ]
    }
   ],
   "source": [
    "string = 'hello'\n",
    "for index in range(len(string)):\n",
    "    if string[index] == 'i' or string[index]== 'o':\n",
    "        print('there is an i or o')\n"
   ]
  },
  {
   "cell_type": "code",
   "execution_count": 30,
   "metadata": {},
   "outputs": [
    {
     "name": "stdout",
     "output_type": "stream",
     "text": [
      "there is an i or o\n"
     ]
    }
   ],
   "source": [
    "for char in string:\n",
    "    if char == 'i' or char == 'o':\n",
    "        print('there is an i or o')"
   ]
  },
  {
   "cell_type": "code",
   "execution_count": 31,
   "metadata": {
    "scrolled": true
   },
   "outputs": [
    {
     "name": "stdout",
     "output_type": "stream",
     "text": [
      "h\n",
      "e\n",
      "l\n",
      "l\n",
      "o\n"
     ]
    }
   ],
   "source": [
    "for char in string:\n",
    "    print(char)"
   ]
  },
  {
   "cell_type": "markdown",
   "metadata": {},
   "source": [
    "### Compound data types: \n",
    "Are made of one or more other datatypes\n",
    "- list \n",
    "- tuples \n",
    "- dictionaries"
   ]
  },
  {
   "cell_type": "markdown",
   "metadata": {},
   "source": [
    "#### tuple\n",
    "A tuple is a collection which is ordered and immutable. In Python tuples are written with round brackets. <br>\n",
    "Tuples are indexed like strings with brackets."
   ]
  },
  {
   "cell_type": "code",
   "execution_count": 32,
   "metadata": {},
   "outputs": [
    {
     "name": "stdout",
     "output_type": "stream",
     "text": [
      "1\n",
      "2\n",
      "1\n",
      "hello\n"
     ]
    }
   ],
   "source": [
    "tup = (1, 'hello', 3)\n",
    "print(tup[0])\n",
    "print(tup[0]+1)\n",
    "print(tup[0])\n",
    "print(tup[1])"
   ]
  },
  {
   "cell_type": "markdown",
   "metadata": {},
   "source": [
    "#### Join Two or more Tuples"
   ]
  },
  {
   "cell_type": "code",
   "execution_count": 33,
   "metadata": {},
   "outputs": [
    {
     "name": "stdout",
     "output_type": "stream",
     "text": [
      "(1, 'hello', 3, 6, 10, ('data', 'mining'))\n"
     ]
    }
   ],
   "source": [
    "tup2 = tup + (6, 10, ('data', 'mining'))\n",
    "print(tup2)"
   ]
  },
  {
   "cell_type": "code",
   "execution_count": 34,
   "metadata": {},
   "outputs": [
    {
     "name": "stdout",
     "output_type": "stream",
     "text": [
      "6\n",
      "('hello', 3, 6, 10)\n"
     ]
    }
   ],
   "source": [
    "print(len(tup2))\n",
    "print(tup2[1:5])"
   ]
  },
  {
   "cell_type": "markdown",
   "metadata": {},
   "source": [
    "#### tuples are immutable "
   ]
  },
  {
   "cell_type": "code",
   "execution_count": 35,
   "metadata": {},
   "outputs": [],
   "source": [
    "# tuples are immutable \n",
    "# tup2[6] = 12"
   ]
  },
  {
   "cell_type": "markdown",
   "metadata": {},
   "source": [
    "### lists\n",
    "A collection which is ordered and mutable. In Python lists are written with square brackets. <br>\n",
    "mutable objects, very similar to tuples"
   ]
  },
  {
   "cell_type": "code",
   "execution_count": 36,
   "metadata": {},
   "outputs": [
    {
     "name": "stdout",
     "output_type": "stream",
     "text": [
      "3\n"
     ]
    }
   ],
   "source": [
    "L = [1, 'hello', 3]\n",
    "L2 = [6, 10, ['data', 'mining']]\n",
    "\n",
    "print(len(L))"
   ]
  },
  {
   "cell_type": "markdown",
   "metadata": {},
   "source": [
    "You access the list items by referring to the index number."
   ]
  },
  {
   "cell_type": "code",
   "execution_count": 37,
   "metadata": {},
   "outputs": [
    {
     "name": "stdout",
     "output_type": "stream",
     "text": [
      "1\n",
      "hello\n",
      "2\n",
      "1\n",
      "['data', 'mining']\n",
      "<class 'list'>\n"
     ]
    }
   ],
   "source": [
    "print(L[0])\n",
    "print(L[1])\n",
    "print(L[0]+1)\n",
    "print(L[0])\n",
    "print(L2[2]) #returns a list\n",
    "print(type(L2[2]))"
   ]
  },
  {
   "cell_type": "markdown",
   "metadata": {},
   "source": [
    "#### lists are mutable"
   ]
  },
  {
   "cell_type": "code",
   "execution_count": 38,
   "metadata": {},
   "outputs": [],
   "source": [
    "L[1] = 2"
   ]
  },
  {
   "cell_type": "code",
   "execution_count": 39,
   "metadata": {},
   "outputs": [
    {
     "data": {
      "text/plain": [
       "[1, 2, 3]"
      ]
     },
     "execution_count": 39,
     "metadata": {},
     "output_type": "execute_result"
    }
   ],
   "source": [
    "L"
   ]
  },
  {
   "cell_type": "markdown",
   "metadata": {},
   "source": [
    "#### for loops over lists\n",
    "You can loop through the list items by using a for loop."
   ]
  },
  {
   "cell_type": "code",
   "execution_count": 40,
   "metadata": {},
   "outputs": [
    {
     "name": "stdout",
     "output_type": "stream",
     "text": [
      "6\n",
      "10\n",
      "['data', 'mining']\n"
     ]
    }
   ],
   "source": [
    "for element in L2:\n",
    "    print(element)"
   ]
  },
  {
   "cell_type": "code",
   "execution_count": 41,
   "metadata": {
    "scrolled": true
   },
   "outputs": [
    {
     "name": "stdout",
     "output_type": "stream",
     "text": [
      "6\n"
     ]
    }
   ],
   "source": [
    "#sum of elements in a list\n",
    "total = 0\n",
    "for i in L:\n",
    "    total += i\n",
    "print(total)"
   ]
  },
  {
   "cell_type": "code",
   "execution_count": 42,
   "metadata": {},
   "outputs": [
    {
     "data": {
      "text/plain": [
       "6"
      ]
     },
     "execution_count": 42,
     "metadata": {},
     "output_type": "execute_result"
    }
   ],
   "source": [
    "sum(L)"
   ]
  },
  {
   "cell_type": "code",
   "execution_count": 4,
   "metadata": {},
   "outputs": [
    {
     "name": "stdout",
     "output_type": "stream",
     "text": [
      "[1, 2, 3]\n",
      "1\n",
      "2\n",
      "3\n",
      "['a', 'b', 'c', 'd']\n",
      "a\n",
      "b\n",
      "c\n",
      "d\n",
      "[0.1, 0.01]\n",
      "0.1\n",
      "0.01\n"
     ]
    }
   ],
   "source": [
    "#nested loops \n",
    "lst = [[1,2,3], ['a', 'b', 'c', 'd'], [0.1, 0.01]]\n",
    "\n",
    "for lst in lst:\n",
    "    print(lst)\n",
    "    for elmnt in lst:\n",
    "        print(elmnt)"
   ]
  },
  {
   "cell_type": "markdown",
   "metadata": {},
   "source": [
    "### operations on lists"
   ]
  },
  {
   "cell_type": "markdown",
   "metadata": {},
   "source": [
    "#### add an element to the end of a list, mutates the list"
   ]
  },
  {
   "cell_type": "code",
   "execution_count": 44,
   "metadata": {},
   "outputs": [
    {
     "name": "stdout",
     "output_type": "stream",
     "text": [
      "[1, 2, 3]\n",
      "[1, 2, 3, 4]\n"
     ]
    }
   ],
   "source": [
    "print(L)\n",
    "L.append(4)\n",
    "print(L)"
   ]
  },
  {
   "cell_type": "code",
   "execution_count": 45,
   "metadata": {},
   "outputs": [],
   "source": [
    "new_list = [5,6]"
   ]
  },
  {
   "cell_type": "markdown",
   "metadata": {},
   "source": [
    "#### add items to the list"
   ]
  },
  {
   "cell_type": "code",
   "execution_count": 46,
   "metadata": {},
   "outputs": [],
   "source": [
    "newer_list = L + new_list"
   ]
  },
  {
   "cell_type": "code",
   "execution_count": 47,
   "metadata": {},
   "outputs": [
    {
     "name": "stdout",
     "output_type": "stream",
     "text": [
      "[1, 2, 3, 4]\n",
      "[5, 6]\n",
      "[1, 2, 3, 4, 5, 6]\n"
     ]
    }
   ],
   "source": [
    "print(L)\n",
    "print(new_list)\n",
    "print(newer_list)"
   ]
  },
  {
   "cell_type": "code",
   "execution_count": 48,
   "metadata": {},
   "outputs": [],
   "source": [
    "#mutates L directly\n",
    "L.extend(new_list)"
   ]
  },
  {
   "cell_type": "code",
   "execution_count": 49,
   "metadata": {},
   "outputs": [
    {
     "name": "stdout",
     "output_type": "stream",
     "text": [
      "[1, 2, 3, 4, 5, 6]\n",
      "[5, 6]\n"
     ]
    }
   ],
   "source": [
    "print(L)\n",
    "print(new_list)"
   ]
  },
  {
   "cell_type": "markdown",
   "metadata": {},
   "source": [
    "#### remove items from the list"
   ]
  },
  {
   "cell_type": "code",
   "execution_count": 50,
   "metadata": {},
   "outputs": [],
   "source": [
    "L2 = [4, 3, 9, 5, 6, 4, 2, 2]"
   ]
  },
  {
   "cell_type": "code",
   "execution_count": 51,
   "metadata": {},
   "outputs": [
    {
     "name": "stdout",
     "output_type": "stream",
     "text": [
      "[4, 9, 5, 6, 4, 2, 2]\n"
     ]
    }
   ],
   "source": [
    "#Operations are done in order\n",
    "L2.remove(3) #mutates the list\n",
    "print(L2)"
   ]
  },
  {
   "cell_type": "code",
   "execution_count": 52,
   "metadata": {},
   "outputs": [
    {
     "name": "stdout",
     "output_type": "stream",
     "text": [
      "[9, 5, 6, 4, 2, 2]\n"
     ]
    }
   ],
   "source": [
    "L2.remove(4)\n",
    "print(L2)"
   ]
  },
  {
   "cell_type": "code",
   "execution_count": 53,
   "metadata": {},
   "outputs": [
    {
     "name": "stdout",
     "output_type": "stream",
     "text": [
      "[9, 5, 4, 2, 2]\n"
     ]
    }
   ],
   "source": [
    "del(L2[2])\n",
    "print(L2)"
   ]
  },
  {
   "cell_type": "code",
   "execution_count": 54,
   "metadata": {},
   "outputs": [
    {
     "name": "stdout",
     "output_type": "stream",
     "text": [
      "[9, 5, 2, 2]\n",
      "4\n"
     ]
    }
   ],
   "source": [
    "item_deleted = L2.pop(2) #mutates the list and returns the item at index\n",
    "print(L2)\n",
    "print(item_deleted)"
   ]
  },
  {
   "cell_type": "markdown",
   "metadata": {},
   "source": [
    "#### Converting strings to lists and back"
   ]
  },
  {
   "cell_type": "code",
   "execution_count": 55,
   "metadata": {},
   "outputs": [],
   "source": [
    "s = 'python tutorial for data mining'\n",
    "# list(s)\n",
    "s2 = s.split()"
   ]
  },
  {
   "cell_type": "code",
   "execution_count": 56,
   "metadata": {},
   "outputs": [
    {
     "data": {
      "text/plain": [
       "'python tutorial for data mining'"
      ]
     },
     "execution_count": 56,
     "metadata": {},
     "output_type": "execute_result"
    }
   ],
   "source": [
    "' '.join(s2)"
   ]
  },
  {
   "cell_type": "markdown",
   "metadata": {},
   "source": [
    "#### sort lists"
   ]
  },
  {
   "cell_type": "code",
   "execution_count": 57,
   "metadata": {},
   "outputs": [
    {
     "name": "stdout",
     "output_type": "stream",
     "text": [
      "[9, 5, 2, 2]\n"
     ]
    }
   ],
   "source": [
    "print(L2)"
   ]
  },
  {
   "cell_type": "code",
   "execution_count": 58,
   "metadata": {},
   "outputs": [
    {
     "name": "stdout",
     "output_type": "stream",
     "text": [
      "[2, 2, 5, 9]\n",
      "[9, 5, 2, 2]\n"
     ]
    }
   ],
   "source": [
    "print(sorted(L2)) # DOES NOT mutate the list\n",
    "print(L2)"
   ]
  },
  {
   "cell_type": "code",
   "execution_count": 59,
   "metadata": {},
   "outputs": [
    {
     "name": "stdout",
     "output_type": "stream",
     "text": [
      "[2, 2, 5, 9]\n"
     ]
    }
   ],
   "source": [
    "L2.sort() #DOES mutate the list\n",
    "print(L2)"
   ]
  },
  {
   "cell_type": "code",
   "execution_count": 60,
   "metadata": {},
   "outputs": [
    {
     "name": "stdout",
     "output_type": "stream",
     "text": [
      "[9, 5, 2, 2]\n"
     ]
    }
   ],
   "source": [
    "L2.reverse() #mutates the list\n",
    "print(L2)"
   ]
  },
  {
   "cell_type": "markdown",
   "metadata": {},
   "source": [
    "#### Cloning \n",
    "As lists are mutable we have to make sure we are not making any unwanted changes to the original list when we want to modify a list. Or when we want to keep a copy of the original list. "
   ]
  },
  {
   "cell_type": "code",
   "execution_count": 61,
   "metadata": {},
   "outputs": [],
   "source": [
    "L1 = [1,2,4,10,5]\n",
    "L2 = [1,2,15,3,10]"
   ]
  },
  {
   "cell_type": "code",
   "execution_count": 62,
   "metadata": {},
   "outputs": [],
   "source": [
    "for e in L1:\n",
    "    if e in L2:\n",
    "        L1.remove(e)        "
   ]
  },
  {
   "cell_type": "code",
   "execution_count": 63,
   "metadata": {},
   "outputs": [
    {
     "name": "stdout",
     "output_type": "stream",
     "text": [
      "[2, 4, 5]\n"
     ]
    }
   ],
   "source": [
    "print(L1)"
   ]
  },
  {
   "cell_type": "code",
   "execution_count": 64,
   "metadata": {},
   "outputs": [
    {
     "name": "stdout",
     "output_type": "stream",
     "text": [
      "[2, 4, 5]\n"
     ]
    }
   ],
   "source": [
    "L1_clone = L1[:] #cloning the list\n",
    "print(L1_clone)\n",
    "for e in L1_clone:\n",
    "    if e in L2:\n",
    "        L1.remove(e)"
   ]
  },
  {
   "cell_type": "code",
   "execution_count": 65,
   "metadata": {},
   "outputs": [
    {
     "name": "stdout",
     "output_type": "stream",
     "text": [
      "[4, 5]\n"
     ]
    }
   ],
   "source": [
    "print(L1)"
   ]
  },
  {
   "cell_type": "markdown",
   "metadata": {},
   "source": [
    "### Dictionaries"
   ]
  },
  {
   "cell_type": "markdown",
   "metadata": {},
   "source": [
    "A dictionary is a collection which is unordered, changeable and indexed. In Python dictionaries are written with curly brackets. keys are unique identifier, value is the data we are after. <br>\n",
    "keys can be any immutable data types, i.e. strings, int"
   ]
  },
  {
   "cell_type": "code",
   "execution_count": 66,
   "metadata": {},
   "outputs": [],
   "source": [
    "student = {'name':'john', 'age':25, 'courses':['ML', 'Math']}"
   ]
  },
  {
   "cell_type": "markdown",
   "metadata": {},
   "source": [
    "#### accessing the items of dictionaries\n",
    "You can access the items of a dictionary by referring to its key name, inside square brackets or use the .get() method. "
   ]
  },
  {
   "cell_type": "code",
   "execution_count": 67,
   "metadata": {},
   "outputs": [
    {
     "name": "stdout",
     "output_type": "stream",
     "text": [
      "john\n"
     ]
    }
   ],
   "source": [
    "print(student['name'])\n",
    "# print(student['ID'])"
   ]
  },
  {
   "cell_type": "code",
   "execution_count": 68,
   "metadata": {},
   "outputs": [
    {
     "name": "stdout",
     "output_type": "stream",
     "text": [
      "john\n"
     ]
    }
   ],
   "source": [
    "print(student.get('name', 'key was not found.'))"
   ]
  },
  {
   "cell_type": "markdown",
   "metadata": {},
   "source": [
    "#### Adding an item to the dictionary or changing an existing one."
   ]
  },
  {
   "cell_type": "code",
   "execution_count": 69,
   "metadata": {},
   "outputs": [],
   "source": [
    "student['ID'] = '002515'\n",
    "#if key already exists\n",
    "student['name'] = 'Jane'"
   ]
  },
  {
   "cell_type": "code",
   "execution_count": 70,
   "metadata": {},
   "outputs": [
    {
     "name": "stdout",
     "output_type": "stream",
     "text": [
      "{'name': 'Jane', 'age': 25, 'courses': ['ML', 'Math'], 'ID': '002515'}\n"
     ]
    }
   ],
   "source": [
    "print(student)"
   ]
  },
  {
   "cell_type": "code",
   "execution_count": 71,
   "metadata": {},
   "outputs": [],
   "source": [
    "# student['city'] = 'Tehran'\n",
    "# student['country'] = 'Iran'\n",
    "student.update({'city':'Tehran', 'country':'Iran'})"
   ]
  },
  {
   "cell_type": "code",
   "execution_count": 72,
   "metadata": {},
   "outputs": [
    {
     "name": "stdout",
     "output_type": "stream",
     "text": [
      "{'name': 'Jane', 'age': 25, 'courses': ['ML', 'Math'], 'ID': '002515', 'city': 'Tehran', 'country': 'Iran'}\n"
     ]
    }
   ],
   "source": [
    "print(student)"
   ]
  },
  {
   "cell_type": "markdown",
   "metadata": {},
   "source": [
    "#### Removing Items from dictionaries "
   ]
  },
  {
   "cell_type": "code",
   "execution_count": 73,
   "metadata": {},
   "outputs": [],
   "source": [
    "del student['country']"
   ]
  },
  {
   "cell_type": "code",
   "execution_count": 74,
   "metadata": {},
   "outputs": [],
   "source": [
    "city = student.pop('city')"
   ]
  },
  {
   "cell_type": "code",
   "execution_count": 75,
   "metadata": {},
   "outputs": [
    {
     "name": "stdout",
     "output_type": "stream",
     "text": [
      "{'name': 'Jane', 'age': 25, 'courses': ['ML', 'Math'], 'ID': '002515'}\n",
      "Tehran\n"
     ]
    }
   ],
   "source": [
    "print(student)\n",
    "print(city)"
   ]
  },
  {
   "cell_type": "markdown",
   "metadata": {},
   "source": [
    "#### Dict methods"
   ]
  },
  {
   "cell_type": "code",
   "execution_count": 76,
   "metadata": {},
   "outputs": [
    {
     "name": "stdout",
     "output_type": "stream",
     "text": [
      "dict_keys(['name', 'age', 'courses', 'ID'])\n",
      "dict_values(['Jane', 25, ['ML', 'Math'], '002515'])\n",
      "dict_items([('name', 'Jane'), ('age', 25), ('courses', ['ML', 'Math']), ('ID', '002515')])\n"
     ]
    }
   ],
   "source": [
    "print(student.keys())\n",
    "print(student.values())\n",
    "print(student.items())"
   ]
  },
  {
   "cell_type": "markdown",
   "metadata": {},
   "source": [
    "#### for loops on dictionaries"
   ]
  },
  {
   "cell_type": "code",
   "execution_count": 77,
   "metadata": {},
   "outputs": [
    {
     "name": "stdout",
     "output_type": "stream",
     "text": [
      "name\n",
      "age\n",
      "courses\n",
      "ID\n"
     ]
    }
   ],
   "source": [
    "for i in student:\n",
    "    print(i)"
   ]
  },
  {
   "cell_type": "code",
   "execution_count": 78,
   "metadata": {
    "scrolled": false
   },
   "outputs": [
    {
     "name": "stdout",
     "output_type": "stream",
     "text": [
      "name Jane\n",
      "age 25\n",
      "courses ['ML', 'Math']\n",
      "ID 002515\n"
     ]
    }
   ],
   "source": [
    "for key, value in student.items():\n",
    "    print(key, value)\n"
   ]
  },
  {
   "cell_type": "markdown",
   "metadata": {},
   "source": [
    "### Functions\n",
    "In programming it's better to divide your code into modules. <br>\n",
    "modules help you to break up code into pieces, debug it once, and use it multiple times with different parameters without having to write the whole code again. "
   ]
  },
  {
   "cell_type": "code",
   "execution_count": 79,
   "metadata": {},
   "outputs": [],
   "source": [
    "x = 10\n",
    "def is_even(x):\n",
    "    '''This is a function that returns True \n",
    "    if the input is an even numbe,\n",
    "    ohtherwise returns False'''\n",
    "    print('Is', x, 'even?')\n",
    "    remainder = x % 2 \n",
    "    return  remainder == 0"
   ]
  },
  {
   "cell_type": "code",
   "execution_count": 80,
   "metadata": {},
   "outputs": [
    {
     "name": "stdout",
     "output_type": "stream",
     "text": [
      "Is 10 even?\n"
     ]
    }
   ],
   "source": [
    "y = is_even(x)"
   ]
  },
  {
   "cell_type": "markdown",
   "metadata": {},
   "source": [
    "#### Scope of a function\n",
    "variables inside a function do not affect your code. "
   ]
  },
  {
   "cell_type": "code",
   "execution_count": 81,
   "metadata": {},
   "outputs": [],
   "source": [
    "# remaider"
   ]
  },
  {
   "cell_type": "code",
   "execution_count": 82,
   "metadata": {
    "scrolled": true
   },
   "outputs": [
    {
     "name": "stdout",
     "output_type": "stream",
     "text": [
      "True\n",
      "<class 'bool'>\n"
     ]
    }
   ],
   "source": [
    "print(y)\n",
    "print(type(y))"
   ]
  },
  {
   "cell_type": "markdown",
   "metadata": {},
   "source": [
    "<b>NOTE</b>: If you don't include the return statement in your function, the None data type is going to be returned. <br>\n",
    "Everything in python is an object ==> a function is an object itself"
   ]
  },
  {
   "cell_type": "code",
   "execution_count": 83,
   "metadata": {},
   "outputs": [
    {
     "name": "stdout",
     "output_type": "stream",
     "text": [
      "<class 'function'>\n"
     ]
    }
   ],
   "source": [
    "print(type(is_even))"
   ]
  },
  {
   "cell_type": "code",
   "execution_count": 84,
   "metadata": {},
   "outputs": [],
   "source": [
    "def f(x):\n",
    "    '''x is an integer'''\n",
    "    return x**2\n",
    "def g(x):\n",
    "    return x**3"
   ]
  },
  {
   "cell_type": "code",
   "execution_count": 85,
   "metadata": {},
   "outputs": [
    {
     "name": "stdout",
     "output_type": "stream",
     "text": [
      "9\n",
      "27\n",
      "729\n"
     ]
    }
   ],
   "source": [
    "x = 3\n",
    "print(f(x))\n",
    "print(g(x))\n",
    "print(f(g(x)))"
   ]
  },
  {
   "cell_type": "markdown",
   "metadata": {},
   "source": [
    "### guessing game with different parameters.\n"
   ]
  },
  {
   "cell_type": "markdown",
   "metadata": {},
   "source": [
    "### Classes\n",
    "Classes provide a means of bundling data and functionality together.<br>\n",
    "Creating a new class creates a new type of object, allowing new instances of that type to be made. <Br>\n",
    "Each class instance can have attributes attached to it for maintaining its state. Class instances can also have methods which are functions that belong to the object."
   ]
  },
  {
   "cell_type": "code",
   "execution_count": 88,
   "metadata": {},
   "outputs": [],
   "source": [
    "class Vector:\n",
    "    def __init__(self, x, y):\n",
    "        self.x = x\n",
    "        self.y = y\n",
    "        \n",
    "    def move(self, move_x, move_y):\n",
    "        new_x = self.x + move_x\n",
    "        new_y = self.y + move_y\n",
    "        return Vector(new_x, new_y)\n",
    "#         return self.x, self.y\n",
    "        \n",
    "    def distance(self, other):\n",
    "        x_diff = (self.x - other.x)**2\n",
    "        y_diff = (self.y - other.y)**2\n",
    "        return (x_diff + y_diff)**0.5\n",
    "    \n",
    "    def __str__(self):\n",
    "        return '('+str(self.x)+' '+str(self.y)+')'\n",
    "    "
   ]
  },
  {
   "cell_type": "code",
   "execution_count": 89,
   "metadata": {},
   "outputs": [
    {
     "name": "stdout",
     "output_type": "stream",
     "text": [
      "(3 4)\n"
     ]
    }
   ],
   "source": [
    "v = Vector(3,4)\n",
    "print(v)"
   ]
  },
  {
   "cell_type": "code",
   "execution_count": 90,
   "metadata": {},
   "outputs": [],
   "source": [
    "v2 = v.move(2,5)"
   ]
  },
  {
   "cell_type": "code",
   "execution_count": 91,
   "metadata": {},
   "outputs": [
    {
     "name": "stdout",
     "output_type": "stream",
     "text": [
      "(3 4)\n",
      "(5 9)\n"
     ]
    }
   ],
   "source": [
    "print(v)\n",
    "print(v2)"
   ]
  },
  {
   "cell_type": "code",
   "execution_count": 92,
   "metadata": {},
   "outputs": [
    {
     "data": {
      "text/plain": [
       "5.385164807134504"
      ]
     },
     "execution_count": 92,
     "metadata": {},
     "output_type": "execute_result"
    }
   ],
   "source": [
    "v.distance(v2)"
   ]
  },
  {
   "cell_type": "code",
   "execution_count": 93,
   "metadata": {},
   "outputs": [
    {
     "data": {
      "text/plain": [
       "5.385164807134504"
      ]
     },
     "execution_count": 93,
     "metadata": {},
     "output_type": "execute_result"
    }
   ],
   "source": [
    "Vector.distance(v,v2)"
   ]
  },
  {
   "cell_type": "code",
   "execution_count": 94,
   "metadata": {},
   "outputs": [],
   "source": [
    "class Dog:\n",
    "    def __init__(self, name, age):\n",
    "        self.name = name\n",
    "        self.age = age\n",
    "    \n",
    "    def talk(self):\n",
    "        print('Bark!')\n",
    "    \n",
    "    def get_name(self):\n",
    "        return self.name\n",
    "    \n",
    "    def get_age(self):\n",
    "        return self.age\n",
    "    \n",
    "    def change_age(self, new_age):\n",
    "        self.age = new_age"
   ]
  },
  {
   "cell_type": "code",
   "execution_count": 95,
   "metadata": {},
   "outputs": [
    {
     "name": "stdout",
     "output_type": "stream",
     "text": [
      "<class '__main__.Dog'>\n"
     ]
    }
   ],
   "source": [
    "d = Dog('dog1', 4)\n",
    "print(type(d))"
   ]
  },
  {
   "cell_type": "code",
   "execution_count": 96,
   "metadata": {},
   "outputs": [
    {
     "name": "stdout",
     "output_type": "stream",
     "text": [
      "Bark!\n"
     ]
    }
   ],
   "source": [
    "d.talk()"
   ]
  },
  {
   "cell_type": "code",
   "execution_count": 97,
   "metadata": {},
   "outputs": [
    {
     "name": "stdout",
     "output_type": "stream",
     "text": [
      "Bark!\n"
     ]
    }
   ],
   "source": [
    "Dog.talk(d)"
   ]
  },
  {
   "cell_type": "code",
   "execution_count": 98,
   "metadata": {},
   "outputs": [
    {
     "name": "stdout",
     "output_type": "stream",
     "text": [
      "<class '__main__.Dog'>\n"
     ]
    }
   ],
   "source": [
    "d2 = Dog('dog2', 6)\n",
    "print(type(d2))"
   ]
  },
  {
   "cell_type": "code",
   "execution_count": 99,
   "metadata": {},
   "outputs": [
    {
     "name": "stdout",
     "output_type": "stream",
     "text": [
      "dog1\n",
      "dog2\n"
     ]
    }
   ],
   "source": [
    "print(d.get_name())\n",
    "print(d2.get_name())"
   ]
  },
  {
   "cell_type": "code",
   "execution_count": 100,
   "metadata": {},
   "outputs": [],
   "source": [
    "class Animal:\n",
    "    def __init__(self, name, age):\n",
    "        self.name = name\n",
    "        self.age = age\n",
    "    \n",
    "    def get_name(self):\n",
    "        return self.name\n",
    "    \n",
    "    def get_age(self):\n",
    "        return self.age\n",
    "    \n",
    "    def change_age(self, new_age):\n",
    "        self.age = new_age\n",
    "        \n",
    "    def desc(self):\n",
    "        print(f' Name: {self.name}, Age: {self.age}')"
   ]
  },
  {
   "cell_type": "code",
   "execution_count": 101,
   "metadata": {},
   "outputs": [],
   "source": [
    "class Dog(Animal):\n",
    "    def talk(self):\n",
    "        print('Bark!')\n",
    "        \n",
    "class Lion(Animal):\n",
    "    def talk(self):\n",
    "        print('Roar!')\n"
   ]
  },
  {
   "cell_type": "code",
   "execution_count": 102,
   "metadata": {},
   "outputs": [],
   "source": [
    "lion = Lion('lion', 14)\n",
    "dog = Dog('dog', 5)"
   ]
  },
  {
   "cell_type": "code",
   "execution_count": 103,
   "metadata": {},
   "outputs": [
    {
     "name": "stdout",
     "output_type": "stream",
     "text": [
      " Name: dog, Age: 5\n",
      " Name: lion, Age: 14\n"
     ]
    }
   ],
   "source": [
    "dog.desc()\n",
    "lion.desc()"
   ]
  },
  {
   "cell_type": "code",
   "execution_count": 104,
   "metadata": {},
   "outputs": [
    {
     "name": "stdout",
     "output_type": "stream",
     "text": [
      "Bark!\n",
      "Roar!\n"
     ]
    }
   ],
   "source": [
    "dog.talk()\n",
    "lion.talk()"
   ]
  },
  {
   "cell_type": "code",
   "execution_count": 105,
   "metadata": {},
   "outputs": [],
   "source": [
    "# class Dog(Animal):\n",
    "#     def __init__(self, name, age, color):\n",
    "#         super().__init__(name, age)\n",
    "#         self.color = color \n",
    "        \n",
    "#     def talk(self):\n",
    "#         print('Bark!')\n",
    "        \n",
    "# class Lion(Animal):\n",
    "#     def talk(self):\n",
    "#         print('Roar!')"
   ]
  },
  {
   "cell_type": "code",
   "execution_count": 106,
   "metadata": {},
   "outputs": [],
   "source": [
    "# d = Dog('dog', 5, 'brown')"
   ]
  },
  {
   "cell_type": "code",
   "execution_count": 107,
   "metadata": {},
   "outputs": [],
   "source": [
    "# l = Lion('lion', 16)"
   ]
  }
 ],
 "metadata": {
  "kernelspec": {
   "display_name": "Python 3",
   "language": "python",
   "name": "python3"
  },
  "language_info": {
   "codemirror_mode": {
    "name": "ipython",
    "version": 3
   },
   "file_extension": ".py",
   "mimetype": "text/x-python",
   "name": "python",
   "nbconvert_exporter": "python",
   "pygments_lexer": "ipython3",
   "version": "3.6.5"
  }
 },
 "nbformat": 4,
 "nbformat_minor": 2
}
